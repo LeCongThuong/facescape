{
 "cells": [
  {
   "cell_type": "markdown",
   "id": "d2ede359",
   "metadata": {},
   "source": [
    "# Expression Rig \n",
    "\n",
    "This demo shows how to rig captured 20 expressions to 52 expressions for the blendshapes. Please make sure the environment have been prepared following [README-toolkit](https://github.com/zhuhao-nju/facescape/blob/master/toolkit/README.md), and the testing data has been downloaded from this [link](https://box.nju.edu.cn/f/95f48b181f394c248790/?dl=1) and extracted to 'facescape/toolkit/test_data/'."
   ]
  },
  {
   "cell_type": "code",
   "execution_count": 1,
   "id": "fcfd5365",
   "metadata": {},
   "outputs": [
    {
     "name": "stderr",
     "output_type": "stream",
     "text": [
      "[step 1/8] Loading templates: 100%|██████████| 51/51 [00:05<00:00,  9.66it/s]\n",
      "[step 2/8] Computing M for templates: 100%|██████████| 52/52 [03:44<00:00,  4.32s/it]\n"
     ]
    },
    {
     "name": "stdout",
     "output_type": "stream",
     "text": [
      "[step 3/8] Building align_mesh\n"
     ]
    },
    {
     "name": "stderr",
     "output_type": "stream",
     "text": [
      "[step 4/8] Loading TU models: 100%|██████████| 19/19 [00:02<00:00,  8.77it/s]\n",
      "[step 5/8] Computing M for TU models: 100%|██████████| 20/20 [01:25<00:00,  4.27s/it]\n"
     ]
    },
    {
     "name": "stdout",
     "output_type": "stream",
     "text": [
      "[step 6/8] Building A\n"
     ]
    },
    {
     "name": "stderr",
     "output_type": "stream",
     "text": [
      "[step 7/8] Optimizing: 100%|██████████| 5/5 [32:44<00:00, 392.90s/it]\n",
      "[step 8/8] Saving result models: 100%|██████████| 51/51 [06:36<00:00,  7.77s/it]"
     ]
    },
    {
     "name": "stdout",
     "output_type": "stream",
     "text": [
      "Done, results saved to ./test_data/rig_data/1/rigging/\n"
     ]
    },
    {
     "name": "stderr",
     "output_type": "stream",
     "text": [
      "\n"
     ]
    }
   ],
   "source": [
    "from src.rig import rig_20to52\n",
    "\n",
    "rig_20to52(id_dir = \"./test_data/rig_data/1/\", \n",
    "           tplt_dir = \"./test_data/rig_data/templates/\", \n",
    "           params_file = \"./test_data/rig_data/rig_params.json\")"
   ]
  },
  {
   "cell_type": "markdown",
   "id": "68ebf9e4",
   "metadata": {},
   "source": [
    "### Name of Expressions before Rigging\n",
    "\n",
    "| ID |      Name     |   | ID |     Name    |   | ID |     Name     |   | ID |     Name     |   | ID |      Name     |\n",
    "|:--:|:-------------:|:-:|:--:|:-----------:|:-:|:--:|:------------:|:-:|:--:|:------------:|:-:|:--:|:-------------:|\n",
    "|  1 |    Neutral    |   |  5 |   Jaw_Left  |   |  9 |  Mouth_Right |   | 13 | Lip_Funneler |   | 17 | Cheek_Blowing |\n",
    "|  2 |     Smile     |   |  6 |  Jaw_Right  |   | 10 |    Dimpler   |   | 14 |    Sadness   |   | 18 |   Eye_Closed  |\n",
    "|  3 | Mouth_Stretch |   |  7 | Jaw_Forward |   | 11 |  Chin_Raiser |   | 15 |   Lip_Roll   |   | 19 |  Brow_Raiser  |\n",
    "|  4 |     Anger     |   |  8 |  Mouth_Left |   | 12 | Lip_Puckerer |   | 16 |     Grin     |   | 20 |   Brow_Lower  |\n",
    "\n",
    "### Name of Expressions after Rigging\n",
    "\n",
    "| ID |     Name    |   | ID |   Name   |   | ID |       Name      |   | ID |      Name     |   | ID |      Name      |\n",
    "|:--:|:-----------:|:-:|:--:|:--------:|:-:|:--:|:---------------:|:-:|:--:|:-------------:|:-:|:--:|:--------------:|\n",
    "|  1 |  EyeBlink_L |   | 11 | EyeOut_L |   | 21 |   LipsTogether  |   | 31 |  MouthSmile_L |   | 41 |   LipsPucker   |\n",
    "|  2 |  EyeBlink_R |   | 12 | EyeOut_R |   | 22 |     JawLeft     |   | 32 |  MouthSmile_R |   | 42 |   LipsFunnel   |\n",
    "|  3 | EyeSquint_L |   | 13 |  EyeUp_L |   | 23 |     JawRight    |   | 33 | MouthDimple_L |   | 43 |    MouthLeft   |\n",
    "|  4 | EyeSquint_R |   | 14 |  EyeUp_R |   | 24 |      JawFwd     |   | 34 | MouthDimple_R |   | 44 |   MouthRight   |\n",
    "|  5 |  EyeDown_L  |   | 15 | BrowsD_L |   | 25 |  LipsUpperUp_L  |   | 35 | LipsStretch_L |   | 45 | ChinLowerRaise |\n",
    "|  6 |  EyeDown_R  |   | 16 | BrowsD_R |   | 26 |  LipsUpperUp_R  |   | 36 | LipsStretch_R |   | 46 | ChinUpperRaise |\n",
    "|  7 |   EyeIn_L   |   | 17 | BrowsU_C |   | 27 | LipsLowerDown_L |   | 37 |  MouthFrown_L |   | 47 |     Sneer_L    |\n",
    "|  8 |   EyeIn_R   |   | 18 | BrowsU_L |   | 28 | LipsLowerDown_R |   | 38 |  MouthFrown_R |   | 48 |     Sneer_R    |\n",
    "|  9 |  EyeOpen_L  |   | 19 | BrowsU_R |   | 29 |  LipsUpperClose |   | 39 |  MouthPress_L |   | 49 |      Puff      |\n",
    "| 10 |  EyeOpen_R  |   | 20 |  JawOpen |   | 30 |  LipsLowerClose |   | 40 |  MouthPress_R |   | 50 |  CheekSquint_L |\n",
    "|  0 | Neutral     |   |    |          |   |    |                 |   |    |               |   | 51 |  CheekSquint_R |"
   ]
  }
 ],
 "metadata": {
  "kernelspec": {
   "display_name": "Python [conda env:facescape] *",
   "language": "python",
   "name": "conda-env-facescape-py"
  },
  "language_info": {
   "codemirror_mode": {
    "name": "ipython",
    "version": 3
   },
   "file_extension": ".py",
   "mimetype": "text/x-python",
   "name": "python",
   "nbconvert_exporter": "python",
   "pygments_lexer": "ipython3",
   "version": "3.6.13"
  }
 },
 "nbformat": 4,
 "nbformat_minor": 5
}
